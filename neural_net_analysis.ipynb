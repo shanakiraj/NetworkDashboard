{
  "cells": [
    {
      "cell_type": "code",
      "execution_count": 2,
      "metadata": {
        "id": "NkU7rrRdoi7w"
      },
      "outputs": [],
      "source": [
        "from sklearn.neural_network import MLPClassifier\n",
        "import matplotlib.pyplot as plt\n",
        "from glob import glob\n",
        "import pandas as pd"
      ]
    },
    {
      "cell_type": "code",
      "execution_count": null,
      "metadata": {
        "id": "m6UcQv3iZwei"
      },
      "outputs": [],
      "source": [
        "data = pd.read_csv('02-14-2018.csv', on_bad_lines='skip')"
      ]
    },
    {
      "cell_type": "code",
      "execution_count": null,
      "metadata": {
        "colab": {
          "base_uri": "https://localhost:8080/",
          "height": 933
        },
        "id": "s-Gy2SL4pQaN",
        "outputId": "e36d0d2a-ab0c-43f4-e02c-977189c2ffe2"
      },
      "outputs": [
        {
          "name": "stdout",
          "output_type": "stream",
          "text": [
            "   Dst Port  Protocol  Flow Duration  Tot Fwd Pkts  Tot Bwd Pkts   Label\n",
            "0         0         0      112641719             3             0  Benign\n",
            "1         0         0      112641466             3             0  Benign\n",
            "2         0         0      112638623             3             0  Benign\n",
            "3        22         6        6453966            15            10  Benign\n",
            "4        22         6        8804066            14            11  Benign\n",
            "Finished Scaling table\n",
            "Finished splitting into training and test\n",
            "Setting datasets into tensors\n",
            "Y Values ['Benign' 'Benign' 'Benign' ... 'Benign' 'Benign' 'Benign']\n",
            "Creating datasets and loaders for training/testing\n",
            "Training model for 10 epochs\n",
            "Epoch 1 Loss: 0.2010, Accuracy: 90.50%\n",
            "Epoch 2 Loss: 0.1850, Accuracy: 90.92%\n",
            "Epoch 3 Loss: 0.1850, Accuracy: 90.91%\n",
            "Epoch 4 Loss: 0.1845, Accuracy: 90.92%\n",
            "Epoch 5 Loss: 0.1842, Accuracy: 90.92%\n",
            "Epoch 6 Loss: 0.1839, Accuracy: 90.93%\n",
            "Epoch 7 Loss: 0.1836, Accuracy: 90.93%\n",
            "Epoch 8 Loss: 0.1832, Accuracy: 90.93%\n",
            "Epoch 9 Loss: 0.1833, Accuracy: 90.93%\n",
            "Epoch 10 Loss: 0.1831, Accuracy: 90.94%\n"
          ]
        },
        {
          "data": {
            "image/png": "[encoded data removed]",
            "text/plain": [
              "<Figure size 1000x500 with 1 Axes>"
            ]
          },
          "metadata": {},
          "output_type": "display_data"
        },
        {
          "name": "stdout",
          "output_type": "stream",
          "text": [
            "Evaluating Model\n",
            "Test Accuracy: 91.05%\n"
          ]
        },
        {
          "data": {
            "text/plain": [
              "91.04706690253389"
            ]
          },
          "execution_count": 22,
          "metadata": {},
          "output_type": "execute_result"
        }
      ],
      "source": [
        "import pandas as pd\n",
        "import csv\n",
        "from sklearn.preprocessing import StandardScaler, LabelEncoder\n",
        "from sklearn.model_selection import train_test_split\n",
        "from sklearn.ensemble import RandomForestClassifier\n",
        "from sklearn.metrics import classification_report, confusion_matrix, accuracy_score\n",
        "from sklearn.model_selection import GridSearchCV\n",
        "from torch.utils.data import DataLoader, TensorDataset\n",
        "import torch\n",
        "import torch.nn as nn\n",
        "import torch.optim as optim\n",
        "import numpy as np\n",
        "import os\n",
        "\n",
        "data = data[[\"Dst Port\", 'Protocol', \"Flow Duration\", \"Tot Fwd Pkts\", \"Tot Bwd Pkts\", \"Label\"]]\n",
        "print(data.head())\n",
        "\n",
        "\n",
        "scaler = StandardScaler()\n",
        "data_scaled = scaler.fit_transform(data.drop(['Label'], axis=1))\n",
        "print(\"Finished Scaling table\")\n",
        "\n",
        "X = data_scaled\n",
        "y = data['Label']\n",
        "\n",
        "X_train, X_test, y_train, y_test = train_test_split(X, y, test_size=0.3, random_state=42)\n",
        "print(\"Finished splitting into training and test\")\n",
        "\n",
        "########################################################################################\n",
        "#NEURAL NETWORK CLASSIFICATION\n",
        "class AnomolyDetectionNetwork(nn.Module):\n",
        "    def __init__(self):\n",
        "        #Just set up some random layers, but the first and last layers need to be the same, because those based on the features and the possible outputs\n",
        "        super(AnomolyDetectionNetwork, self).__init__()\n",
        "        self.fc1 = nn.Linear(X_train.shape[1], 128)\n",
        "        self.fc2 = nn.Linear(128, 64)\n",
        "        self.fc3 = nn.Linear(64, 32)\n",
        "        self.fc4 = nn.Linear(32, len(y.unique()))\n",
        "\n",
        "    def forward(self, x):\n",
        "        x = torch.relu(self.fc1(x))\n",
        "        x = torch.relu(self.fc2(x))\n",
        "        x = torch.relu(self.fc3(x))\n",
        "        x = self.fc4(x)\n",
        "        return x\n",
        "\n",
        "print(\"Setting datasets into tensors\")\n",
        "print(\"Y Values\", y.values)\n",
        "label_encoder = LabelEncoder()\n",
        "y_encoded = label_encoder.fit_transform(y)\n",
        "X_tensor = torch.tensor(data_scaled, dtype=torch.float32)\n",
        "y_tensor = torch.tensor(y_encoded, dtype=torch.long)\n",
        "\n",
        "X_train, X_test, y_train, y_test = train_test_split(X_tensor, y_tensor, test_size=0.3, random_state=42)\n",
        "\n",
        "print(\"Creating datasets and loaders for training/testing\")\n",
        "train_dataset = TensorDataset(X_train, y_train)\n",
        "test_dataset = TensorDataset(X_test, y_test)\n",
        "\n",
        "train_loader = DataLoader(train_dataset, batch_size=64, shuffle=True)\n",
        "test_loader = DataLoader(test_dataset, batch_size=64, shuffle=False)\n",
        "\n",
        "model = AnomolyDetectionNetwork()\n",
        "\n",
        "criterion = nn.CrossEntropyLoss()\n",
        "optimizer = optim.Adam(model.parameters(), lr=0.001)\n",
        "\n",
        "\n",
        "def train_model(num_epochs=10):\n",
        "    train_accuracy_list = []\n",
        "    for epoch in range(num_epochs):\n",
        "        model.train()\n",
        "        running_loss = 0.0\n",
        "        correct = 0\n",
        "        total = 0\n",
        "        for inputs, labels in train_loader:\n",
        "            optimizer.zero_grad()\n",
        "            outputs = model(inputs)\n",
        "            loss = criterion(outputs, labels)\n",
        "            loss.backward()\n",
        "            optimizer.step()\n",
        "            running_loss += loss.item()\n",
        "\n",
        "            _, predicted = torch.max(outputs.data, 1)\n",
        "            total += labels.size(0)\n",
        "            correct += (predicted == labels).sum().item()\n",
        "\n",
        "        epoch_loss = running_loss / len(train_loader)\n",
        "        epoch_accuracy = 100 * correct / total\n",
        "        train_accuracy_list.append(epoch_accuracy)\n",
        "        print(f'Epoch {epoch+1} Loss: {epoch_loss:.4f}, Accuracy: {epoch_accuracy:.2f}%')\n",
        "\n",
        "    return train_accuracy_list\n",
        "\n",
        "def plot_accuracies(train_accuracies):\n",
        "    plt.figure(figsize=(10, 5))\n",
        "    plt.plot(train_accuracies, label='Training Accuracy')\n",
        "    plt.xlabel('Epoch')\n",
        "    plt.ylabel('Accuracy')\n",
        "    plt.title('Accuracy over Epochs')\n",
        "    plt.legend()\n",
        "    plt.grid(True)\n",
        "    plt.show()\n",
        "\n",
        "NUM_EPOCHS = 10\n",
        "print(\"Training model for\", NUM_EPOCHS, \"epochs\")\n",
        "train_accuracies = train_model(num_epochs=NUM_EPOCHS)\n",
        "plot_accuracies(train_accuracies)\n",
        "\n",
        "def evaluate_model():\n",
        "    model.eval()\n",
        "    correct = 0\n",
        "    total = 0\n",
        "    with torch.no_grad():\n",
        "        for inputs, labels in test_loader:\n",
        "            outputs = model(inputs)\n",
        "            _, predicted = torch.max(outputs.data, 1)\n",
        "            total += labels.size(0)\n",
        "            correct += (predicted == labels).sum().item()\n",
        "    accuracy = 100 * correct / total\n",
        "    print(f'Test Accuracy: {accuracy:.2f}%')\n",
        "    return accuracy\n",
        "\n",
        "print(\"Evaluating Model\")\n",
        "evaluate_model()"
      ]
    }
  ],
  "metadata": {
    "colab": {
      "provenance": []
    },
    "kernelspec": {
      "display_name": "Python 3",
      "name": "python3"
    },
    "language_info": {
      "name": "python"
    }
  },
  "nbformat": 4,
  "nbformat_minor": 0
}
